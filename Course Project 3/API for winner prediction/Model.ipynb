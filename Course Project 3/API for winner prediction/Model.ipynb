{
 "cells": [
  {
   "cell_type": "code",
   "execution_count": 86,
   "metadata": {},
   "outputs": [],
   "source": [
    "import numpy as np # linear algebra\n",
    "import pandas as pd # data processing, CSV file I/O (e.g. pd.read_csv)\n",
    "from sklearn.ensemble import RandomForestClassifier\n",
    "from sklearn.metrics import accuracy_score, precision_score"
   ]
  },
  {
   "cell_type": "code",
   "execution_count": 87,
   "metadata": {},
   "outputs": [],
   "source": [
    "df = pd.read_csv('./ODI_Match_info.csv')"
   ]
  },
  {
   "cell_type": "code",
   "execution_count": 88,
   "metadata": {},
   "outputs": [
    {
     "name": "stderr",
     "output_type": "stream",
     "text": [
      "C:\\Users\\parth\\AppData\\Local\\Temp\\ipykernel_7152\\3532345252.py:1: UserWarning: Parsing dates in %d-%m-%Y format when dayfirst=False (the default) was specified. Pass `dayfirst=True` or specify a format to silence this warning.\n",
      "  df['date'] = pd.to_datetime(df['date'])\n"
     ]
    }
   ],
   "source": [
    "df['date'] = pd.to_datetime(df['date'])"
   ]
  },
  {
   "cell_type": "code",
   "execution_count": 89,
   "metadata": {},
   "outputs": [],
   "source": [
    "df = df.loc[df['winner'].notna()]"
   ]
  },
  {
   "cell_type": "code",
   "execution_count": 90,
   "metadata": {},
   "outputs": [],
   "source": [
    "city_categories = df['city'].astype('category')\n",
    "venue_categories = df['venue'].astype('category')"
   ]
  },
  {
   "cell_type": "code",
   "execution_count": 91,
   "metadata": {},
   "outputs": [],
   "source": [
    "encoding_info = None"
   ]
  },
  {
   "cell_type": "code",
   "execution_count": 92,
   "metadata": {},
   "outputs": [],
   "source": [
    "def create_features(df: pd.DataFrame):\n",
    "    # If team1 is not the winner of the match, consider it a loss\n",
    "    df['win_target'] = (df['team1'] == df['winner']).astype(int)\n",
    "\n",
    "    # Categorize and transform to numerical data for model\n",
    "    df['city_code'] = city_categories.cat.codes\n",
    "    df['venue_code'] = venue_categories.cat.codes\n",
    "\n",
    "    # Create a mapping to convert team name strings into cat codes for team1 and team2 features\n",
    "    all_teams = pd.Series(pd.concat([df.team1, df.team2]).unique()).rename('teams').to_frame()\n",
    "    all_teams['team_code'] = all_teams['teams'].astype('category').cat.codes\n",
    "    team_map = pd.Series(all_teams.team_code.values, index=all_teams.teams).to_dict()\n",
    "    # print(team_map)\n",
    "\n",
    "    df['team1_code'] = df['team1'].map(team_map)\n",
    "    df['team2_code'] = df['team2'].map(team_map)\n",
    "\n",
    "    # Convert toss_winner to categorical and apply label encoding\n",
    "    df['toss_winner_code'] = df['toss_winner'].map(team_map)\n",
    "\n",
    "    # Convert toss_decision to categorical and apply one-hot encoding\n",
    "    df = pd.get_dummies(df, columns=['toss_decision'], drop_first=True)\n",
    "\n",
    "    df = df.sort_values('date')\n",
    "\n",
    "    # Save the encoding information along with the model\n",
    "    global encoding_info\n",
    "    encoding_info = {\n",
    "        'team_map': team_map,\n",
    "        'city_encoding_categories': city_categories.cat.categories,\n",
    "        'venue_encoding_categories': venue_categories.cat.categories,\n",
    "    }\n",
    "    return df"
   ]
  },
  {
   "cell_type": "code",
   "execution_count": 93,
   "metadata": {},
   "outputs": [],
   "source": [
    "df = df.pipe(create_features)"
   ]
  },
  {
   "cell_type": "code",
   "execution_count": 94,
   "metadata": {},
   "outputs": [
    {
     "data": {
      "text/html": [
       "<div>\n",
       "<style scoped>\n",
       "    .dataframe tbody tr th:only-of-type {\n",
       "        vertical-align: middle;\n",
       "    }\n",
       "\n",
       "    .dataframe tbody tr th {\n",
       "        vertical-align: top;\n",
       "    }\n",
       "\n",
       "    .dataframe thead th {\n",
       "        text-align: right;\n",
       "    }\n",
       "</style>\n",
       "<table border=\"1\" class=\"dataframe\">\n",
       "  <thead>\n",
       "    <tr style=\"text-align: right;\">\n",
       "      <th></th>\n",
       "      <th>city</th>\n",
       "      <th>date</th>\n",
       "      <th>team1</th>\n",
       "      <th>team2</th>\n",
       "      <th>venue</th>\n",
       "      <th>toss_winner</th>\n",
       "      <th>win_by_runs</th>\n",
       "      <th>win_by_wickets</th>\n",
       "      <th>winner</th>\n",
       "      <th>win_target</th>\n",
       "      <th>city_code</th>\n",
       "      <th>venue_code</th>\n",
       "      <th>team1_code</th>\n",
       "      <th>team2_code</th>\n",
       "      <th>toss_winner_code</th>\n",
       "      <th>toss_decision_field</th>\n",
       "    </tr>\n",
       "  </thead>\n",
       "  <tbody>\n",
       "    <tr>\n",
       "      <th>2378</th>\n",
       "      <td>Napier</td>\n",
       "      <td>2002-12-29</td>\n",
       "      <td>New Zealand</td>\n",
       "      <td>India</td>\n",
       "      <td>McLean Park, Napier</td>\n",
       "      <td>India</td>\n",
       "      <td>35</td>\n",
       "      <td>0</td>\n",
       "      <td>New Zealand</td>\n",
       "      <td>1</td>\n",
       "      <td>103</td>\n",
       "      <td>151</td>\n",
       "      <td>17</td>\n",
       "      <td>10</td>\n",
       "      <td>10</td>\n",
       "      <td>True</td>\n",
       "    </tr>\n",
       "    <tr>\n",
       "      <th>2377</th>\n",
       "      <td>Christchurch</td>\n",
       "      <td>2003-01-01</td>\n",
       "      <td>India</td>\n",
       "      <td>New Zealand</td>\n",
       "      <td>Jade Stadium, Christchurch</td>\n",
       "      <td>India</td>\n",
       "      <td>0</td>\n",
       "      <td>5</td>\n",
       "      <td>New Zealand</td>\n",
       "      <td>0</td>\n",
       "      <td>34</td>\n",
       "      <td>113</td>\n",
       "      <td>10</td>\n",
       "      <td>17</td>\n",
       "      <td>10</td>\n",
       "      <td>False</td>\n",
       "    </tr>\n",
       "    <tr>\n",
       "      <th>2376</th>\n",
       "      <td>Queenstown</td>\n",
       "      <td>2003-01-04</td>\n",
       "      <td>India</td>\n",
       "      <td>New Zealand</td>\n",
       "      <td>Davies Park, Queenstown</td>\n",
       "      <td>New Zealand</td>\n",
       "      <td>0</td>\n",
       "      <td>7</td>\n",
       "      <td>New Zealand</td>\n",
       "      <td>0</td>\n",
       "      <td>118</td>\n",
       "      <td>65</td>\n",
       "      <td>10</td>\n",
       "      <td>17</td>\n",
       "      <td>17</td>\n",
       "      <td>True</td>\n",
       "    </tr>\n",
       "    <tr>\n",
       "      <th>2375</th>\n",
       "      <td>Wellington</td>\n",
       "      <td>2003-01-08</td>\n",
       "      <td>New Zealand</td>\n",
       "      <td>India</td>\n",
       "      <td>Westpac Stadium, Wellington</td>\n",
       "      <td>New Zealand</td>\n",
       "      <td>0</td>\n",
       "      <td>2</td>\n",
       "      <td>India</td>\n",
       "      <td>0</td>\n",
       "      <td>142</td>\n",
       "      <td>286</td>\n",
       "      <td>17</td>\n",
       "      <td>10</td>\n",
       "      <td>17</td>\n",
       "      <td>False</td>\n",
       "    </tr>\n",
       "    <tr>\n",
       "      <th>2374</th>\n",
       "      <td>Sydney</td>\n",
       "      <td>2003-01-09</td>\n",
       "      <td>Sri Lanka</td>\n",
       "      <td>Australia</td>\n",
       "      <td>Sydney Cricket Ground</td>\n",
       "      <td>Australia</td>\n",
       "      <td>79</td>\n",
       "      <td>0</td>\n",
       "      <td>Sri Lanka</td>\n",
       "      <td>1</td>\n",
       "      <td>131</td>\n",
       "      <td>249</td>\n",
       "      <td>23</td>\n",
       "      <td>3</td>\n",
       "      <td>3</td>\n",
       "      <td>True</td>\n",
       "    </tr>\n",
       "  </tbody>\n",
       "</table>\n",
       "</div>"
      ],
      "text/plain": [
       "              city       date        team1        team2  \\\n",
       "2378        Napier 2002-12-29  New Zealand        India   \n",
       "2377  Christchurch 2003-01-01        India  New Zealand   \n",
       "2376    Queenstown 2003-01-04        India  New Zealand   \n",
       "2375    Wellington 2003-01-08  New Zealand        India   \n",
       "2374        Sydney 2003-01-09    Sri Lanka    Australia   \n",
       "\n",
       "                            venue  toss_winner  win_by_runs  win_by_wickets  \\\n",
       "2378          McLean Park, Napier        India           35               0   \n",
       "2377   Jade Stadium, Christchurch        India            0               5   \n",
       "2376      Davies Park, Queenstown  New Zealand            0               7   \n",
       "2375  Westpac Stadium, Wellington  New Zealand            0               2   \n",
       "2374        Sydney Cricket Ground    Australia           79               0   \n",
       "\n",
       "           winner  win_target  city_code  venue_code  team1_code  team2_code  \\\n",
       "2378  New Zealand           1        103         151          17          10   \n",
       "2377  New Zealand           0         34         113          10          17   \n",
       "2376  New Zealand           0        118          65          10          17   \n",
       "2375        India           0        142         286          17          10   \n",
       "2374    Sri Lanka           1        131         249          23           3   \n",
       "\n",
       "      toss_winner_code  toss_decision_field  \n",
       "2378                10                 True  \n",
       "2377                10                False  \n",
       "2376                17                 True  \n",
       "2375                17                False  \n",
       "2374                 3                 True  "
      ]
     },
     "execution_count": 94,
     "metadata": {},
     "output_type": "execute_result"
    }
   ],
   "source": [
    "df.head()"
   ]
  },
  {
   "cell_type": "code",
   "execution_count": 95,
   "metadata": {},
   "outputs": [],
   "source": [
    "features = ['win_by_runs','win_by_wickets','toss_winner_code','venue_code', 'city_code','team1_code','team2_code','toss_decision_field']"
   ]
  },
  {
   "cell_type": "code",
   "execution_count": 96,
   "metadata": {},
   "outputs": [],
   "source": [
    "xgb_model = None"
   ]
  },
  {
   "cell_type": "code",
   "execution_count": 97,
   "metadata": {},
   "outputs": [],
   "source": [
    "import xgboost as xgb\n",
    "\n",
    "def trainxgbmodel(data,features):\n",
    "  global xgb_model\n",
    "  xgb_model = xgb.XGBClassifier(n_estimators=500, max_depth=5,random_state=100)\n",
    "  train = data[data['date'] < '2022-01-01'].copy()\n",
    "  test = data[data['date'] > '2023-11-05'].copy()\n",
    "  xgb_model.fit(train[features],train['win_target'])\n",
    "  preds = xgb_model.predict(test[features])\n",
    "  combined = pd.DataFrame(dict(actual=test['win_target'], prediction=preds), index=test.index)\n",
    "  combined = combined.join(test)\n",
    "\n",
    "  precision = precision_score(test['win_target'],preds)\n",
    "  accuracy = accuracy_score(test['win_target'], preds)\n",
    "  return precision, accuracy, combined"
   ]
  },
  {
   "cell_type": "code",
   "execution_count": 98,
   "metadata": {},
   "outputs": [],
   "source": [
    "precision, accuracy, combined = trainxgbmodel(df, features)"
   ]
  },
  {
   "cell_type": "code",
   "execution_count": 99,
   "metadata": {},
   "outputs": [
    {
     "name": "stdout",
     "output_type": "stream",
     "text": [
      "XGBoost model Accuracy: 70.0\n",
      "XGboost Model Precision: 77.78\n"
     ]
    }
   ],
   "source": [
    "print(f\"XGBoost model Accuracy: {(accuracy * 100).round(2)}\")\n",
    "print(f\"XGboost Model Precision: {(precision * 100).round(2)}\")"
   ]
  },
  {
   "cell_type": "code",
   "execution_count": 100,
   "metadata": {},
   "outputs": [],
   "source": [
    "model_and_encoding_info = {\n",
    "    'model': xgb_model,  # Replace 'trained_model' with your actual trained model\n",
    "    'encoding_info': encoding_info,\n",
    "}"
   ]
  },
  {
   "cell_type": "code",
   "execution_count": 101,
   "metadata": {},
   "outputs": [],
   "source": [
    "import pickle\n",
    "pickle_out = open(\"classifier.pkl\",\"wb\")\n",
    "pickle.dump(model_and_encoding_info, pickle_out)\n",
    "#Serialization\n",
    "pickle_out.close()"
   ]
  }
 ],
 "metadata": {
  "kernelspec": {
   "display_name": "Python 3",
   "language": "python",
   "name": "python3"
  },
  "language_info": {
   "codemirror_mode": {
    "name": "ipython",
    "version": 3
   },
   "file_extension": ".py",
   "mimetype": "text/x-python",
   "name": "python",
   "nbconvert_exporter": "python",
   "pygments_lexer": "ipython3",
   "version": "3.12.0"
  }
 },
 "nbformat": 4,
 "nbformat_minor": 2
}
